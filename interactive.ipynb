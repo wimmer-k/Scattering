{
 "cells": [
  {
   "cell_type": "code",
   "execution_count": 25,
   "metadata": {},
   "outputs": [],
   "source": [
    "## for slider widget and interactive drawing\n",
    "from ipywidgets import interactive\n",
    "## for plotting on notebook\n",
    "import matplotlib.pyplot as plt\n",
    "## numpy for numerical calculations\n",
    "import numpy as np\n",
    "## numerical integration of arbitrary functions\n",
    "from scipy.integrate import quad"
   ]
  },
  {
   "cell_type": "code",
   "execution_count": 26,
   "metadata": {},
   "outputs": [],
   "source": [
    "## define the Woods-Saxon potential with parameters \n",
    "## R mean radius, a diffuseness\n",
    "## 1j is for complex\n",
    "## q is the momentum transfer\n",
    "def WoodsSaxon(r, a, R):\n",
    "    return 1/(1+np.exp((r-R)/a))\n",
    "\n",
    "def Integrand(r, a, R, q):\n",
    "    return 1/(1+np.exp((r-R)/a))*np.exp(1j*r*q)"
   ]
  },
  {
   "cell_type": "code",
   "execution_count": 27,
   "metadata": {},
   "outputs": [],
   "source": [
    "## radius 0 - 5 fm\n",
    "r = np.linspace(0,5,201)\n",
    "## momentum space\n",
    "q = np.linspace(0,5,201)\n",
    "\n",
    "## function to calculate the form factor\n",
    "def Calculate(a,R,r,q):\n",
    "   ## radial density distribution\n",
    "    rho = WoodsSaxon(r,a,R)\n",
    "\n",
    "    F = []\n",
    "    ## loop over momentum transfers and numerically integrate\n",
    "    for qq in q:\n",
    "        res = quad(Integrand, 0, 100, args=(a,R,qq));\n",
    "        z = res[0]+1j*res[1]\n",
    "        F.append(abs(z)) \n",
    "    \n",
    "    return rho, F"
   ]
  },
  {
   "cell_type": "code",
   "execution_count": 28,
   "metadata": {},
   "outputs": [
    {
     "name": "stderr",
     "output_type": "stream",
     "text": [
      "/usr/lib/python3/dist-packages/scipy/integrate/_quadpack_py.py:463: ComplexWarning: Casting complex values to real discards the imaginary part\n",
      "  return _quadpack._qagse(func,a,b,args,full_output,epsabs,epsrel,limit)\n"
     ]
    }
   ],
   "source": [
    "## change here the parameters of the potential\n",
    "a = 0.3\n",
    "R = 2\n",
    "\n",
    "rho, F = Calculate(a,R,r,q);\n"
   ]
  },
  {
   "cell_type": "code",
   "execution_count": 29,
   "metadata": {},
   "outputs": [
    {
     "data": {
      "application/vnd.jupyter.widget-view+json": {
       "model_id": "0cfc34fdb9994128923edb91e97afc0f",
       "version_major": 2,
       "version_minor": 0
      },
      "text/plain": [
       "interactive(children=(FloatSlider(value=2.0, description='R', max=5.0), FloatSlider(value=0.2, description='a'…"
      ]
     },
     "execution_count": 29,
     "metadata": {},
     "output_type": "execute_result"
    }
   ],
   "source": [
    "def update(R = 2, a = 0.2):\n",
    "    fig = plt.figure(figsize=(12,7))\n",
    "    ax1 = fig.add_subplot(1, 2, 1)\n",
    "    ax2 = fig.add_subplot(1, 2, 2)\n",
    "    rho, F = Calculate(a,R,r,q);\n",
    "    ax1.plot(r,rho)\n",
    "    ax2.plot(q,F)\n",
    "    ax1.set_xlabel(r\"$r$ (fm)\")\n",
    "    ax1.set_ylabel(r\"$\\rho(r)$\")\n",
    "    ax2.set_xlabel(r\"$q$\")\n",
    "    ax2.set_ylabel(r\"$|F(q)|$\")\n",
    "    \n",
    "plot = interactive(update, R = (0,5,0.1), a = (0.1,1,0.05));\n",
    "plot"
   ]
  },
  {
   "cell_type": "code",
   "execution_count": null,
   "metadata": {},
   "outputs": [],
   "source": []
  }
 ],
 "metadata": {
  "kernelspec": {
   "display_name": "Python 3 (ipykernel)",
   "language": "python",
   "name": "python3"
  },
  "language_info": {
   "codemirror_mode": {
    "name": "ipython",
    "version": 3
   },
   "file_extension": ".py",
   "mimetype": "text/x-python",
   "name": "python",
   "nbconvert_exporter": "python",
   "pygments_lexer": "ipython3",
   "version": "3.10.12"
  }
 },
 "nbformat": 4,
 "nbformat_minor": 2
}
